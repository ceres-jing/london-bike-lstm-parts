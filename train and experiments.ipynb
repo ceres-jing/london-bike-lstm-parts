{
 "cells": [
  {
   "cell_type": "code",
   "execution_count": 5,
   "metadata": {
    "colab": {
     "base_uri": "https://localhost:8080/"
    },
    "executionInfo": {
     "elapsed": 11289,
     "status": "ok",
     "timestamp": 1627507788572,
     "user": {
      "displayName": "ceres jing",
      "photoUrl": "",
      "userId": "00035869373124920510"
     },
     "user_tz": -60
    },
    "id": "DN1fMdnZ1lWr",
    "outputId": "8ff6e21b-acfd-4a8c-9ffb-b7faa097d9b5"
   },
   "outputs": [
    {
     "name": "stdout",
     "output_type": "stream",
     "text": [
      "\u001b[1m\n",
      "         .:::.     .::.       \n",
      "        ....yy:    .yy.       \n",
      "        :.  .yy.    y.        \n",
      "             :y:   .:         \n",
      "             .yy  .:          \n",
      "              yy..:           \n",
      "              :y:.            \n",
      "              .y.             \n",
      "             .:.              \n",
      "        ....:.                \n",
      "        :::.                  \n",
      "\u001b[0;33m\n",
      "• Project files and data should be stored in /project. This is shared among everyone\n",
      "  in the project.\n",
      "• Personal files and configuration should be stored in /home/faculty.\n",
      "• Files outside /project and /home/faculty will be lost when this server is terminated.\n",
      "• Create custom environments to setup your servers reproducibly.\n",
      "\u001b[0m\n",
      "Looking in links: https://pytorch-geometric.com/whl/torch-1.9.0+cu102.html\n",
      "Requirement already satisfied: torch-scatter in /opt/anaconda/envs/Python3/lib/python3.8/site-packages (2.0.8)\n",
      "\u001b[1m\n",
      "         .:::.     .::.       \n",
      "        ....yy:    .yy.       \n",
      "        :.  .yy.    y.        \n",
      "             :y:   .:         \n",
      "             .yy  .:          \n",
      "              yy..:           \n",
      "              :y:.            \n",
      "              .y.             \n",
      "             .:.              \n",
      "        ....:.                \n",
      "        :::.                  \n",
      "\u001b[0;33m\n",
      "• Project files and data should be stored in /project. This is shared among everyone\n",
      "  in the project.\n",
      "• Personal files and configuration should be stored in /home/faculty.\n",
      "• Files outside /project and /home/faculty will be lost when this server is terminated.\n",
      "• Create custom environments to setup your servers reproducibly.\n",
      "\u001b[0m\n",
      "Looking in links: https://pytorch-geometric.com/whl/torch-1.9.0+cu102.html\n",
      "Requirement already satisfied: torch-sparse in /opt/anaconda/envs/Python3/lib/python3.8/site-packages (0.6.11)\n",
      "Requirement already satisfied: scipy in /opt/anaconda/envs/Python3/lib/python3.8/site-packages (from torch-sparse) (1.6.2)\n",
      "Requirement already satisfied: numpy<1.23.0,>=1.16.5 in /opt/anaconda/envs/Python3/lib/python3.8/site-packages (from scipy->torch-sparse) (1.18.5)\n",
      "\u001b[1m\n",
      "         .:::.     .::.       \n",
      "        ....yy:    .yy.       \n",
      "        :.  .yy.    y.        \n",
      "             :y:   .:         \n",
      "             .yy  .:          \n",
      "              yy..:           \n",
      "              :y:.            \n",
      "              .y.             \n",
      "             .:.              \n",
      "        ....:.                \n",
      "        :::.                  \n",
      "\u001b[0;33m\n",
      "• Project files and data should be stored in /project. This is shared among everyone\n",
      "  in the project.\n",
      "• Personal files and configuration should be stored in /home/faculty.\n",
      "• Files outside /project and /home/faculty will be lost when this server is terminated.\n",
      "• Create custom environments to setup your servers reproducibly.\n",
      "\u001b[0m\n",
      "Requirement already satisfied: torch-geometric in /opt/anaconda/envs/Python3/lib/python3.8/site-packages (1.7.2)\n",
      "Requirement already satisfied: pandas in /opt/anaconda/envs/Python3/lib/python3.8/site-packages (from torch-geometric) (1.2.4)\n",
      "Requirement already satisfied: rdflib in /opt/anaconda/envs/Python3/lib/python3.8/site-packages (from torch-geometric) (6.0.0)\n",
      "Requirement already satisfied: scipy in /opt/anaconda/envs/Python3/lib/python3.8/site-packages (from torch-geometric) (1.6.2)\n",
      "Requirement already satisfied: tqdm in /opt/anaconda/envs/Python3/lib/python3.8/site-packages (from torch-geometric) (4.59.0)\n",
      "Requirement already satisfied: numpy in /opt/anaconda/envs/Python3/lib/python3.8/site-packages (from torch-geometric) (1.18.5)\n",
      "Requirement already satisfied: python-louvain in /opt/anaconda/envs/Python3/lib/python3.8/site-packages (from torch-geometric) (0.15)\n",
      "Requirement already satisfied: pyparsing in /opt/anaconda/envs/Python3/lib/python3.8/site-packages (from torch-geometric) (2.4.7)\n",
      "Requirement already satisfied: jinja2 in /opt/anaconda/envs/Python3/lib/python3.8/site-packages (from torch-geometric) (2.11.3)\n",
      "Requirement already satisfied: requests in /opt/anaconda/envs/Python3/lib/python3.8/site-packages (from torch-geometric) (2.25.1)\n",
      "Requirement already satisfied: scikit-learn in /opt/anaconda/envs/Python3/lib/python3.8/site-packages (from torch-geometric) (0.24.1)\n",
      "Requirement already satisfied: networkx in /opt/anaconda/envs/Python3/lib/python3.8/site-packages (from torch-geometric) (2.5)\n",
      "Requirement already satisfied: googledrivedownloader in /opt/anaconda/envs/Python3/lib/python3.8/site-packages (from torch-geometric) (0.4)\n",
      "Requirement already satisfied: MarkupSafe>=0.23 in /opt/anaconda/envs/Python3/lib/python3.8/site-packages (from jinja2->torch-geometric) (1.1.1)\n",
      "Requirement already satisfied: decorator>=4.3.0 in /opt/anaconda/envs/Python3/lib/python3.8/site-packages (from networkx->torch-geometric) (5.0.6)\n",
      "Requirement already satisfied: python-dateutil>=2.7.3 in /opt/anaconda/envs/Python3/lib/python3.8/site-packages (from pandas->torch-geometric) (2.8.1)\n",
      "Requirement already satisfied: pytz>=2017.3 in /opt/anaconda/envs/Python3/lib/python3.8/site-packages (from pandas->torch-geometric) (2021.1)\n",
      "Requirement already satisfied: six>=1.5 in /opt/anaconda/envs/Python3/lib/python3.8/site-packages (from python-dateutil>=2.7.3->pandas->torch-geometric) (1.15.0)\n",
      "Requirement already satisfied: isodate in /opt/anaconda/envs/Python3/lib/python3.8/site-packages (from rdflib->torch-geometric) (0.6.0)\n",
      "Requirement already satisfied: setuptools in /opt/anaconda/envs/Python3/lib/python3.8/site-packages (from rdflib->torch-geometric) (52.0.0.post20210125)\n",
      "Requirement already satisfied: certifi>=2017.4.17 in /opt/anaconda/envs/Python3/lib/python3.8/site-packages (from requests->torch-geometric) (2021.5.30)\n",
      "Requirement already satisfied: idna<3,>=2.5 in /opt/anaconda/envs/Python3/lib/python3.8/site-packages (from requests->torch-geometric) (2.10)\n",
      "Requirement already satisfied: urllib3<1.27,>=1.21.1 in /opt/anaconda/envs/Python3/lib/python3.8/site-packages (from requests->torch-geometric) (1.26.4)\n",
      "Requirement already satisfied: chardet<5,>=3.0.2 in /opt/anaconda/envs/Python3/lib/python3.8/site-packages (from requests->torch-geometric) (4.0.0)\n",
      "Requirement already satisfied: threadpoolctl>=2.0.0 in /opt/anaconda/envs/Python3/lib/python3.8/site-packages (from scikit-learn->torch-geometric) (2.1.0)\n",
      "Requirement already satisfied: joblib>=0.11 in /opt/anaconda/envs/Python3/lib/python3.8/site-packages (from scikit-learn->torch-geometric) (1.0.1)\n",
      "\u001b[1m\n",
      "         .:::.     .::.       \n",
      "        ....yy:    .yy.       \n",
      "        :.  .yy.    y.        \n",
      "             :y:   .:         \n",
      "             .yy  .:          \n",
      "              yy..:           \n",
      "              :y:.            \n",
      "              .y.             \n",
      "             .:.              \n",
      "        ....:.                \n",
      "        :::.                  \n",
      "\u001b[0;33m\n",
      "• Project files and data should be stored in /project. This is shared among everyone\n",
      "  in the project.\n",
      "• Personal files and configuration should be stored in /home/faculty.\n",
      "• Files outside /project and /home/faculty will be lost when this server is terminated.\n",
      "• Create custom environments to setup your servers reproducibly.\n",
      "\u001b[0m\n",
      "Requirement already satisfied: torch in /opt/anaconda/envs/Python3/lib/python3.8/site-packages (1.9.0)\n",
      "Requirement already satisfied: typing-extensions in /opt/anaconda/envs/Python3/lib/python3.8/site-packages (from torch) (3.7.4.3)\n"
     ]
    }
   ],
   "source": [
    "!pip install torch-scatter -f https://pytorch-geometric.com/whl/torch-1.9.0+cu102.html\n",
    "!pip install torch-sparse -f https://pytorch-geometric.com/whl/torch-1.9.0+cu102.html\n",
    "!pip install torch-geometric\n",
    "!pip install torch"
   ]
  },
  {
   "cell_type": "code",
   "execution_count": 6,
   "metadata": {
    "colab": {
     "base_uri": "https://localhost:8080/"
    },
    "executionInfo": {
     "elapsed": 8884,
     "status": "ok",
     "timestamp": 1627507824884,
     "user": {
      "displayName": "ceres jing",
      "photoUrl": "",
      "userId": "00035869373124920510"
     },
     "user_tz": -60
    },
    "id": "_peHi7O_3MRg",
    "outputId": "db5d707a-b055-4527-ddea-a9159baafd5f"
   },
   "outputs": [
    {
     "name": "stdout",
     "output_type": "stream",
     "text": [
      "1.9.0+cu102\n"
     ]
    }
   ],
   "source": [
    "from datetime import datetime\n",
    "import time\n",
    "import pandas as pd\n",
    "import torch\n",
    "print(torch.__version__)\n",
    "import torch.nn.functional as F\n",
    "from torch_geometric.data import DataLoader\n",
    "\n",
    "from multichannel_spatiotemporal import STGCN\n",
    "from london_dataset import LondonBikeDataset"
   ]
  },
  {
   "cell_type": "code",
   "execution_count": 7,
   "metadata": {
    "executionInfo": {
     "elapsed": 305,
     "status": "ok",
     "timestamp": 1627507830788,
     "user": {
      "displayName": "ceres jing",
      "photoUrl": "",
      "userId": "00035869373124920510"
     },
     "user_tz": -60
    },
    "id": "GNcjQrEVSiay"
   },
   "outputs": [],
   "source": [
    "def main(max_epochs, path_model_save, path_model_load, update_saved_model_freq,\n",
    "         dataset_kwargs, dataloader_kwargs, model_kwargs, optimizer_kwargs,trail_name):\n",
    "    '''\n",
    "    Main function to train model on a dataset. Saves the model state to disk as it progresses.\n",
    "\n",
    "    Args:\n",
    "        max_epochs (int): Maximum number of epochs in the training\n",
    "        path_model_save (str): Path to save model. Include up to filename prefix, e.g. `/my_computer/my_dir/file`\n",
    "        path_model_load (str): Path to model to load state from. If None, state is randomly initialized.\n",
    "        update_saved_model_freq (int): How many optimization steps between updates to the saved model.\n",
    "        dataset_kwargs (dict): Keyworded arguments for the creation of a LondonBikeDataset instance\n",
    "        dataloader_kwargs (dict): Keyworded arguments for the creation of a PyTorch geometric DataLoader instance\n",
    "        model_kwargs (dict): Keyworded arguments for the spatio-temporal graph convolutional net model instance\n",
    "        optimizer_kwargs (dict): Keyworded arguments for the SGD optimizer used for the training\n",
    "\n",
    "    '''\n",
    "    #device = xm.xla_device(n=8, devkind='TPU')\n",
    "    device = torch.device('cuda' if torch.cuda.is_available() else 'cpu')\n",
    "\n",
    "#     with open(path_model_save+'_input_params'+'.txt', 'w') as fout:\n",
    "#         print ('Training start:{}\\n'.format(datetime.now().isoformat()), file=fout)\n",
    "#         print ('dataset kwargs:\\n {}\\n'.format(dataset_kwargs), file=fout)\n",
    "#         print ('dataloader kwargs:\\n {}\\n'.format(dataloader_kwargs), file=fout)\n",
    "#         print ('model kwargs:\\n {}\\n'.format(model_kwargs), file=fout)\n",
    "#         print ('optimizer kwargs:\\n {}'.format(optimizer_kwargs), file=fout)\n",
    "\n",
    "    london_bike_data = LondonBikeDataset(**dataset_kwargs)\n",
    "    london_bike_loader = DataLoader(london_bike_data, **dataloader_kwargs)\n",
    "    if 'create_from_source' in dataset_kwargs:\n",
    "        if dataset_kwargs['create_from_source']:\n",
    "            london_bike_data.write_creation_params()\n",
    "\n",
    "    model = STGCN(n_spatial_dim=london_bike_data[0].num_nodes, **model_kwargs).to(device)\n",
    "    optimizer = torch.optim.SGD(model.parameters(), **optimizer_kwargs)\n",
    "\n",
    "    if not path_model_load is None:\n",
    "        state = torch.load(path_model_load)\n",
    "        model.load_state_dict(state['model_state_dict'])\n",
    "        optimizer.load_state_dict(state['optimizer_state_dict'])\n",
    "    train_loss=pd.DataFrame()\n",
    "    start_time=time.time()\n",
    "    model.train()\n",
    "    for epoch in range(max_epochs):\n",
    "        print ('Epoch {} at {}'.format(epoch, datetime.now().isoformat()))\n",
    "\n",
    "        for k_batch, local_batch in enumerate(london_bike_loader):\n",
    "            local_batch = local_batch.to(device)\n",
    "            optimizer.zero_grad()\n",
    "\n",
    "            #print ('Shape of batch {}: {}'. format(k_batch, local_batch.x.shape))\n",
    "            out = model(local_batch)\n",
    "            #print ('...model evaluated at {}'.format(datetime.now().isoformat()))\n",
    "            loss = F.mse_loss(out.y, local_batch.y)\n",
    "            #print ('...with loss {} at {}'.format(loss, datetime.now().isoformat()))\n",
    "            loss.backward()\n",
    "            #print ('...gradients done at {}'.format(datetime.now().isoformat()))\n",
    "            optimizer.step()\n",
    "            #print ('...optimization step done at {}'.format(datetime.now().isoformat()))\n",
    "            end_time=time.time()\n",
    "            acc_time=round(end_time-start_time,2)\n",
    "            train_loss=train_loss.append({'epoch':int(epoch),'batch':int(k_batch),'loss':loss,'time_acc':acc_time},ignore_index=True)\n",
    "            \n",
    "            train_loss.to_csv('/project/model_train_result_15mins_s16000/'+trail_name+str(trail_time+1)+'.csv')\n",
    "            if k_batch % update_saved_model_freq == 0:\n",
    "                # Save model and optimizer states rather than the entire model.\n",
    "                torch.save({'epoch': epoch,\n",
    "                            'k_batch': k_batch,\n",
    "                            'model_state_dict': model.state_dict(),\n",
    "                            'optimizer_state_dict': optimizer.state_dict(),\n",
    "                            'loss': loss},\n",
    "                            path_model_save + '.tar')"
   ]
  },
  {
   "cell_type": "code",
   "execution_count": 63,
   "metadata": {},
   "outputs": [
    {
     "data": {
      "text/plain": [
       "(28520, 35519)"
      ]
     },
     "execution_count": 63,
     "metadata": {},
     "output_type": "execute_result"
    }
   ],
   "source": [
    "#hello=pd.read_csv('/project/data_15(3).csv')\n",
    "(35519/12)*2\n",
    "7000/35519\n",
    "(28520,35519)"
   ]
  },
  {
   "cell_type": "code",
   "execution_count": 8,
   "metadata": {
    "executionInfo": {
     "elapsed": 413,
     "status": "ok",
     "timestamp": 1627507835901,
     "user": {
      "displayName": "ceres jing",
      "photoUrl": "",
      "userId": "00035869373124920510"
     },
     "user_tz": -60
    },
    "id": "aIE-CaAPS81m"
   },
   "outputs": [],
   "source": [
    "from consts import EXCLUDE_STATIONS\n",
    "def trail(lower_weight,trail_name,batch,epochs,samplesize,trail_time):\n",
    "  dataset_kwargs = {'lower_weight' : lower_weight,\n",
    "                    'common_weight' : None,\n",
    "                    'time_id_bounds' :(0,28519),\n",
    "                    'time_shuffle' : True,\n",
    "                    'sample_size' :samplesize,\n",
    "                    'create_from_source' :True,\n",
    "                    'station_exclusion' : EXCLUDE_STATIONS,\n",
    "                    'ntimes_leading' : 5,\n",
    "                    'ntimes_forward' : 1,\n",
    "                    'source_graph_file' : 'graph_weight_15(3).csv',\n",
    "                    'source_data_files' : 'data_15(3).csv',\n",
    "                    'root_dir' : '/project/data_input',\n",
    "                    'source_dir' : '/project',\n",
    "                    'weight_type':'percent_flow',\n",
    "                    'seed':1}\n",
    "\n",
    "  dataloader_kwargs = {'batch_size' : batch, 'shuffle' : True}\n",
    "\n",
    "  model_kwargs = {'n_temporal_dim' : 5, 'n_input_channels' : 2,\n",
    "                  'co_temporal' :64, 'co_spatial' :16, 'time_conv_length' : 3}\n",
    "  optimizer_kwargs = {'lr':0.01, 'momentum': 0.9}\n",
    "  max_epochs = epochs\n",
    "  path_model_save = '/project/model_save_15mins_s16000/'+trail_name+str(trail_time+1)\n",
    "  if trail_time==0:\n",
    "    path_model_load = None\n",
    "  else:\n",
    "    path_model_load = '/project/model_save_15mins_s16000/'+trail_name+str(trail_time)+'.tar'\n",
    "  model=main(max_epochs,path_model_save, path_model_load, 3, \n",
    "             dataset_kwargs, dataloader_kwargs, model_kwargs, optimizer_kwargs,trail_name)"
   ]
  },
  {
   "cell_type": "code",
   "execution_count": null,
   "metadata": {
    "scrolled": true
   },
   "outputs": [],
   "source": [
    "for trail_time in range(6,10):\n",
    "    trail(0.3,'d15_w03_b64_e10_s16000_stgcn_v',64,10,16000,trail_time)\n",
    "    print('|'+'-'*30+'|')\n",
    "    print('|Well Done! Finished trail '+str(trail_time+1)+'!! |')\n",
    "    print('|'+'-'*30+'|')"
   ]
  },
  {
   "cell_type": "code",
   "execution_count": null,
   "metadata": {},
   "outputs": [],
   "source": []
  },
  {
   "cell_type": "code",
   "execution_count": 67,
   "metadata": {},
   "outputs": [
    {
     "name": "stdout",
     "output_type": "stream",
     "text": [
      "hello world\n"
     ]
    }
   ],
   "source": [
    "print('hello world')"
   ]
  },
  {
   "cell_type": "code",
   "execution_count": 92,
   "metadata": {},
   "outputs": [
    {
     "data": {
      "text/html": [
       "<div>\n",
       "<style scoped>\n",
       "    .dataframe tbody tr th:only-of-type {\n",
       "        vertical-align: middle;\n",
       "    }\n",
       "\n",
       "    .dataframe tbody tr th {\n",
       "        vertical-align: top;\n",
       "    }\n",
       "\n",
       "    .dataframe thead th {\n",
       "        text-align: right;\n",
       "    }\n",
       "</style>\n",
       "<table border=\"1\" class=\"dataframe\">\n",
       "  <thead>\n",
       "    <tr style=\"text-align: right;\">\n",
       "      <th></th>\n",
       "      <th>station_id</th>\n",
       "      <th>time_id</th>\n",
       "      <th>arrivals</th>\n",
       "      <th>departures</th>\n",
       "    </tr>\n",
       "  </thead>\n",
       "  <tbody>\n",
       "    <tr>\n",
       "      <th>0</th>\n",
       "      <td>1</td>\n",
       "      <td>0</td>\n",
       "      <td>0</td>\n",
       "      <td>0</td>\n",
       "    </tr>\n",
       "    <tr>\n",
       "      <th>1</th>\n",
       "      <td>2</td>\n",
       "      <td>0</td>\n",
       "      <td>0</td>\n",
       "      <td>0</td>\n",
       "    </tr>\n",
       "    <tr>\n",
       "      <th>2</th>\n",
       "      <td>3</td>\n",
       "      <td>0</td>\n",
       "      <td>0</td>\n",
       "      <td>1</td>\n",
       "    </tr>\n",
       "    <tr>\n",
       "      <th>3</th>\n",
       "      <td>4</td>\n",
       "      <td>0</td>\n",
       "      <td>0</td>\n",
       "      <td>0</td>\n",
       "    </tr>\n",
       "    <tr>\n",
       "      <th>4</th>\n",
       "      <td>5</td>\n",
       "      <td>0</td>\n",
       "      <td>0</td>\n",
       "      <td>0</td>\n",
       "    </tr>\n",
       "    <tr>\n",
       "      <th>...</th>\n",
       "      <td>...</td>\n",
       "      <td>...</td>\n",
       "      <td>...</td>\n",
       "      <td>...</td>\n",
       "    </tr>\n",
       "    <tr>\n",
       "      <th>26562971</th>\n",
       "      <td>830</td>\n",
       "      <td>35519</td>\n",
       "      <td>0</td>\n",
       "      <td>0</td>\n",
       "    </tr>\n",
       "    <tr>\n",
       "      <th>26562972</th>\n",
       "      <td>831</td>\n",
       "      <td>35519</td>\n",
       "      <td>0</td>\n",
       "      <td>0</td>\n",
       "    </tr>\n",
       "    <tr>\n",
       "      <th>26562973</th>\n",
       "      <td>833</td>\n",
       "      <td>35519</td>\n",
       "      <td>0</td>\n",
       "      <td>0</td>\n",
       "    </tr>\n",
       "    <tr>\n",
       "      <th>26562974</th>\n",
       "      <td>838</td>\n",
       "      <td>35519</td>\n",
       "      <td>0</td>\n",
       "      <td>0</td>\n",
       "    </tr>\n",
       "    <tr>\n",
       "      <th>26562975</th>\n",
       "      <td>839</td>\n",
       "      <td>35519</td>\n",
       "      <td>0</td>\n",
       "      <td>0</td>\n",
       "    </tr>\n",
       "  </tbody>\n",
       "</table>\n",
       "<p>26562976 rows × 4 columns</p>\n",
       "</div>"
      ],
      "text/plain": [
       "          station_id  time_id  arrivals  departures\n",
       "0                  1        0         0           0\n",
       "1                  2        0         0           0\n",
       "2                  3        0         0           1\n",
       "3                  4        0         0           0\n",
       "4                  5        0         0           0\n",
       "...              ...      ...       ...         ...\n",
       "26562971         830    35519         0           0\n",
       "26562972         831    35519         0           0\n",
       "26562973         833    35519         0           0\n",
       "26562974         838    35519         0           0\n",
       "26562975         839    35519         0           0\n",
       "\n",
       "[26562976 rows x 4 columns]"
      ]
     },
     "execution_count": 92,
     "metadata": {},
     "output_type": "execute_result"
    }
   ],
   "source": [
    "hello=pd.read_csv('/project/data_15(2).csv')\n",
    "hello"
   ]
  },
  {
   "cell_type": "code",
   "execution_count": 58,
   "metadata": {},
   "outputs": [
    {
     "data": {
      "text/html": [
       "<div>\n",
       "<style scoped>\n",
       "    .dataframe tbody tr th:only-of-type {\n",
       "        vertical-align: middle;\n",
       "    }\n",
       "\n",
       "    .dataframe tbody tr th {\n",
       "        vertical-align: top;\n",
       "    }\n",
       "\n",
       "    .dataframe thead th {\n",
       "        text-align: right;\n",
       "    }\n",
       "</style>\n",
       "<table border=\"1\" class=\"dataframe\">\n",
       "  <thead>\n",
       "    <tr style=\"text-align: right;\">\n",
       "      <th></th>\n",
       "      <th>station_id</th>\n",
       "      <th>time_id</th>\n",
       "      <th>arrivals</th>\n",
       "      <th>departures</th>\n",
       "    </tr>\n",
       "  </thead>\n",
       "  <tbody>\n",
       "    <tr>\n",
       "      <th>20602912</th>\n",
       "      <td>1</td>\n",
       "      <td>27552</td>\n",
       "      <td>0</td>\n",
       "      <td>0</td>\n",
       "    </tr>\n",
       "    <tr>\n",
       "      <th>20602913</th>\n",
       "      <td>2</td>\n",
       "      <td>27552</td>\n",
       "      <td>0</td>\n",
       "      <td>1</td>\n",
       "    </tr>\n",
       "    <tr>\n",
       "      <th>20602914</th>\n",
       "      <td>3</td>\n",
       "      <td>27552</td>\n",
       "      <td>0</td>\n",
       "      <td>0</td>\n",
       "    </tr>\n",
       "    <tr>\n",
       "      <th>20602915</th>\n",
       "      <td>4</td>\n",
       "      <td>27552</td>\n",
       "      <td>0</td>\n",
       "      <td>0</td>\n",
       "    </tr>\n",
       "    <tr>\n",
       "      <th>20602916</th>\n",
       "      <td>5</td>\n",
       "      <td>27552</td>\n",
       "      <td>0</td>\n",
       "      <td>0</td>\n",
       "    </tr>\n",
       "    <tr>\n",
       "      <th>...</th>\n",
       "      <td>...</td>\n",
       "      <td>...</td>\n",
       "      <td>...</td>\n",
       "      <td>...</td>\n",
       "    </tr>\n",
       "    <tr>\n",
       "      <th>20603655</th>\n",
       "      <td>830</td>\n",
       "      <td>27552</td>\n",
       "      <td>0</td>\n",
       "      <td>0</td>\n",
       "    </tr>\n",
       "    <tr>\n",
       "      <th>20603656</th>\n",
       "      <td>831</td>\n",
       "      <td>27552</td>\n",
       "      <td>0</td>\n",
       "      <td>0</td>\n",
       "    </tr>\n",
       "    <tr>\n",
       "      <th>20603657</th>\n",
       "      <td>833</td>\n",
       "      <td>27552</td>\n",
       "      <td>0</td>\n",
       "      <td>0</td>\n",
       "    </tr>\n",
       "    <tr>\n",
       "      <th>20603658</th>\n",
       "      <td>838</td>\n",
       "      <td>27552</td>\n",
       "      <td>0</td>\n",
       "      <td>0</td>\n",
       "    </tr>\n",
       "    <tr>\n",
       "      <th>20603659</th>\n",
       "      <td>839</td>\n",
       "      <td>27552</td>\n",
       "      <td>0</td>\n",
       "      <td>0</td>\n",
       "    </tr>\n",
       "  </tbody>\n",
       "</table>\n",
       "<p>748 rows × 4 columns</p>\n",
       "</div>"
      ],
      "text/plain": [
       "          station_id  time_id  arrivals  departures\n",
       "20602912           1    27552         0           0\n",
       "20602913           2    27552         0           1\n",
       "20602914           3    27552         0           0\n",
       "20602915           4    27552         0           0\n",
       "20602916           5    27552         0           0\n",
       "...              ...      ...       ...         ...\n",
       "20603655         830    27552         0           0\n",
       "20603656         831    27552         0           0\n",
       "20603657         833    27552         0           0\n",
       "20603658         838    27552         0           0\n",
       "20603659         839    27552         0           0\n",
       "\n",
       "[748 rows x 4 columns]"
      ]
     },
     "execution_count": 58,
     "metadata": {},
     "output_type": "execute_result"
    }
   ],
   "source": [
    "hello[hello.time_id==27552]"
   ]
  },
  {
   "cell_type": "code",
   "execution_count": 94,
   "metadata": {},
   "outputs": [
    {
     "data": {
      "text/plain": [
       "[27544, 27545, 27546, 27547, 27548, 27549, 27550, 27551]"
      ]
     },
     "execution_count": 94,
     "metadata": {},
     "output_type": "execute_result"
    }
   ],
   "source": [
    "time_id=set(hello.time_id.unique())\n",
    "se=set([i for i in range(0,35520)])\n",
    "\n",
    "retD = list(se.difference(time_id))\n",
    "retD"
   ]
  },
  {
   "cell_type": "code",
   "execution_count": 76,
   "metadata": {},
   "outputs": [
    {
     "data": {
      "text/plain": [
       "1.0032051282051282"
      ]
     },
     "execution_count": 76,
     "metadata": {},
     "output_type": "execute_result"
    }
   ],
   "source": [
    "6886/(24*286)\n"
   ]
  },
  {
   "cell_type": "code",
   "execution_count": 14,
   "metadata": {},
   "outputs": [
    {
     "data": {
      "text/html": [
       "<div>\n",
       "<style scoped>\n",
       "    .dataframe tbody tr th:only-of-type {\n",
       "        vertical-align: middle;\n",
       "    }\n",
       "\n",
       "    .dataframe tbody tr th {\n",
       "        vertical-align: top;\n",
       "    }\n",
       "\n",
       "    .dataframe thead th {\n",
       "        text-align: right;\n",
       "    }\n",
       "</style>\n",
       "<table border=\"1\" class=\"dataframe\">\n",
       "  <thead>\n",
       "    <tr style=\"text-align: right;\">\n",
       "      <th></th>\n",
       "      <th>station_id</th>\n",
       "      <th>time_id</th>\n",
       "      <th>arrivals</th>\n",
       "      <th>departures</th>\n",
       "    </tr>\n",
       "  </thead>\n",
       "  <tbody>\n",
       "    <tr>\n",
       "      <th>0</th>\n",
       "      <td>1</td>\n",
       "      <td>49728</td>\n",
       "      <td>0</td>\n",
       "      <td>1</td>\n",
       "    </tr>\n",
       "    <tr>\n",
       "      <th>1</th>\n",
       "      <td>2</td>\n",
       "      <td>49728</td>\n",
       "      <td>0</td>\n",
       "      <td>0</td>\n",
       "    </tr>\n",
       "    <tr>\n",
       "      <th>2</th>\n",
       "      <td>3</td>\n",
       "      <td>49728</td>\n",
       "      <td>0</td>\n",
       "      <td>0</td>\n",
       "    </tr>\n",
       "    <tr>\n",
       "      <th>3</th>\n",
       "      <td>4</td>\n",
       "      <td>49728</td>\n",
       "      <td>0</td>\n",
       "      <td>0</td>\n",
       "    </tr>\n",
       "    <tr>\n",
       "      <th>4</th>\n",
       "      <td>5</td>\n",
       "      <td>49728</td>\n",
       "      <td>0</td>\n",
       "      <td>0</td>\n",
       "    </tr>\n",
       "    <tr>\n",
       "      <th>...</th>\n",
       "      <td>...</td>\n",
       "      <td>...</td>\n",
       "      <td>...</td>\n",
       "      <td>...</td>\n",
       "    </tr>\n",
       "    <tr>\n",
       "      <th>15489787</th>\n",
       "      <td>833</td>\n",
       "      <td>70463</td>\n",
       "      <td>0</td>\n",
       "      <td>0</td>\n",
       "    </tr>\n",
       "    <tr>\n",
       "      <th>15489788</th>\n",
       "      <td>834</td>\n",
       "      <td>70463</td>\n",
       "      <td>0</td>\n",
       "      <td>0</td>\n",
       "    </tr>\n",
       "    <tr>\n",
       "      <th>15489789</th>\n",
       "      <td>835</td>\n",
       "      <td>70463</td>\n",
       "      <td>0</td>\n",
       "      <td>0</td>\n",
       "    </tr>\n",
       "    <tr>\n",
       "      <th>15489790</th>\n",
       "      <td>838</td>\n",
       "      <td>70463</td>\n",
       "      <td>0</td>\n",
       "      <td>0</td>\n",
       "    </tr>\n",
       "    <tr>\n",
       "      <th>15489791</th>\n",
       "      <td>839</td>\n",
       "      <td>70463</td>\n",
       "      <td>0</td>\n",
       "      <td>0</td>\n",
       "    </tr>\n",
       "  </tbody>\n",
       "</table>\n",
       "<p>15489792 rows × 4 columns</p>\n",
       "</div>"
      ],
      "text/plain": [
       "          station_id  time_id  arrivals  departures\n",
       "0                  1    49728         0           1\n",
       "1                  2    49728         0           0\n",
       "2                  3    49728         0           0\n",
       "3                  4    49728         0           0\n",
       "4                  5    49728         0           0\n",
       "...              ...      ...       ...         ...\n",
       "15489787         833    70463         0           0\n",
       "15489788         834    70463         0           0\n",
       "15489789         835    70463         0           0\n",
       "15489790         838    70463         0           0\n",
       "15489791         839    70463         0           0\n",
       "\n",
       "[15489792 rows x 4 columns]"
      ]
     },
     "execution_count": 14,
     "metadata": {},
     "output_type": "execute_result"
    }
   ],
   "source": [
    "hello1=pd.read_csv('/project/data.csv')\n",
    "hello1"
   ]
  },
  {
   "cell_type": "code",
   "execution_count": 2,
   "metadata": {
    "scrolled": false
   },
   "outputs": [
    {
     "data": {
      "text/plain": [
       "[<matplotlib.lines.Line2D at 0x7ff2bd4ffb50>]"
      ]
     },
     "execution_count": 2,
     "metadata": {},
     "output_type": "execute_result"
    },
    {
     "data": {
      "image/png": "[encoded data removed]",
      "text/plain": [
       "<Figure size 432x288 with 1 Axes>"
      ]
     },
     "metadata": {
      "needs_background": "light"
     },
     "output_type": "display_data"
    }
   ],
   "source": [
    "import pandas as pd\n",
    "import numpy as np\n",
    "import matplotlib.pyplot as plt\n",
    "loss_data=pd.read_csv('/project/model_train_result/data30_w045+b64+e100+s6400_v1.csv')\n",
    "loss_data.shape\n",
    "\n",
    "for i in range(loss_data.shape[0]):\n",
    "    loss_data.iloc[i,3]=float(loss_data.iloc[i,3][7:13])\n",
    "y=np.array(loss_data.loss)\n",
    "x=np.array(loss_data.index)\n",
    "plt.plot(x,y)"
   ]
  },
  {
   "cell_type": "code",
   "execution_count": 8,
   "metadata": {},
   "outputs": [
    {
     "data": {
      "text/html": [
       "<div>\n",
       "<style scoped>\n",
       "    .dataframe tbody tr th:only-of-type {\n",
       "        vertical-align: middle;\n",
       "    }\n",
       "\n",
       "    .dataframe tbody tr th {\n",
       "        vertical-align: top;\n",
       "    }\n",
       "\n",
       "    .dataframe thead th {\n",
       "        text-align: right;\n",
       "    }\n",
       "</style>\n",
       "<table border=\"1\" class=\"dataframe\">\n",
       "  <thead>\n",
       "    <tr style=\"text-align: right;\">\n",
       "      <th></th>\n",
       "      <th>Unnamed: 0</th>\n",
       "      <th>batch</th>\n",
       "      <th>epoch</th>\n",
       "      <th>loss</th>\n",
       "      <th>time_acc</th>\n",
       "    </tr>\n",
       "  </thead>\n",
       "  <tbody>\n",
       "    <tr>\n",
       "      <th>0</th>\n",
       "      <td>0</td>\n",
       "      <td>0.0</td>\n",
       "      <td>0.0</td>\n",
       "      <td>tensor(0.8523, device='cuda:0', grad_fn=&lt;MseLo...</td>\n",
       "      <td>3.61</td>\n",
       "    </tr>\n",
       "    <tr>\n",
       "      <th>1</th>\n",
       "      <td>1</td>\n",
       "      <td>1.0</td>\n",
       "      <td>0.0</td>\n",
       "      <td>tensor(0.7859, device='cuda:0', grad_fn=&lt;MseLo...</td>\n",
       "      <td>7.29</td>\n",
       "    </tr>\n",
       "    <tr>\n",
       "      <th>2</th>\n",
       "      <td>2</td>\n",
       "      <td>2.0</td>\n",
       "      <td>0.0</td>\n",
       "      <td>tensor(0.6287, device='cuda:0', grad_fn=&lt;MseLo...</td>\n",
       "      <td>10.84</td>\n",
       "    </tr>\n",
       "    <tr>\n",
       "      <th>3</th>\n",
       "      <td>3</td>\n",
       "      <td>3.0</td>\n",
       "      <td>0.0</td>\n",
       "      <td>tensor(0.8419, device='cuda:0', grad_fn=&lt;MseLo...</td>\n",
       "      <td>14.43</td>\n",
       "    </tr>\n",
       "    <tr>\n",
       "      <th>4</th>\n",
       "      <td>4</td>\n",
       "      <td>4.0</td>\n",
       "      <td>0.0</td>\n",
       "      <td>tensor(0.6973, device='cuda:0', grad_fn=&lt;MseLo...</td>\n",
       "      <td>18.14</td>\n",
       "    </tr>\n",
       "    <tr>\n",
       "      <th>...</th>\n",
       "      <td>...</td>\n",
       "      <td>...</td>\n",
       "      <td>...</td>\n",
       "      <td>...</td>\n",
       "      <td>...</td>\n",
       "    </tr>\n",
       "    <tr>\n",
       "      <th>1395</th>\n",
       "      <td>1395</td>\n",
       "      <td>95.0</td>\n",
       "      <td>13.0</td>\n",
       "      <td>tensor(0.4658, device='cuda:0', grad_fn=&lt;MseLo...</td>\n",
       "      <td>5786.53</td>\n",
       "    </tr>\n",
       "    <tr>\n",
       "      <th>1396</th>\n",
       "      <td>1396</td>\n",
       "      <td>96.0</td>\n",
       "      <td>13.0</td>\n",
       "      <td>tensor(0.4348, device='cuda:0', grad_fn=&lt;MseLo...</td>\n",
       "      <td>5791.09</td>\n",
       "    </tr>\n",
       "    <tr>\n",
       "      <th>1397</th>\n",
       "      <td>1397</td>\n",
       "      <td>97.0</td>\n",
       "      <td>13.0</td>\n",
       "      <td>tensor(0.5494, device='cuda:0', grad_fn=&lt;MseLo...</td>\n",
       "      <td>5795.88</td>\n",
       "    </tr>\n",
       "    <tr>\n",
       "      <th>1398</th>\n",
       "      <td>1398</td>\n",
       "      <td>98.0</td>\n",
       "      <td>13.0</td>\n",
       "      <td>tensor(0.5220, device='cuda:0', grad_fn=&lt;MseLo...</td>\n",
       "      <td>5800.63</td>\n",
       "    </tr>\n",
       "    <tr>\n",
       "      <th>1399</th>\n",
       "      <td>1399</td>\n",
       "      <td>99.0</td>\n",
       "      <td>13.0</td>\n",
       "      <td>tensor(0.5075, device='cuda:0', grad_fn=&lt;MseLo...</td>\n",
       "      <td>5805.26</td>\n",
       "    </tr>\n",
       "  </tbody>\n",
       "</table>\n",
       "<p>1400 rows × 5 columns</p>\n",
       "</div>"
      ],
      "text/plain": [
       "      Unnamed: 0  batch  epoch  \\\n",
       "0              0    0.0    0.0   \n",
       "1              1    1.0    0.0   \n",
       "2              2    2.0    0.0   \n",
       "3              3    3.0    0.0   \n",
       "4              4    4.0    0.0   \n",
       "...          ...    ...    ...   \n",
       "1395        1395   95.0   13.0   \n",
       "1396        1396   96.0   13.0   \n",
       "1397        1397   97.0   13.0   \n",
       "1398        1398   98.0   13.0   \n",
       "1399        1399   99.0   13.0   \n",
       "\n",
       "                                                   loss  time_acc  \n",
       "0     tensor(0.8523, device='cuda:0', grad_fn=<MseLo...      3.61  \n",
       "1     tensor(0.7859, device='cuda:0', grad_fn=<MseLo...      7.29  \n",
       "2     tensor(0.6287, device='cuda:0', grad_fn=<MseLo...     10.84  \n",
       "3     tensor(0.8419, device='cuda:0', grad_fn=<MseLo...     14.43  \n",
       "4     tensor(0.6973, device='cuda:0', grad_fn=<MseLo...     18.14  \n",
       "...                                                 ...       ...  \n",
       "1395  tensor(0.4658, device='cuda:0', grad_fn=<MseLo...   5786.53  \n",
       "1396  tensor(0.4348, device='cuda:0', grad_fn=<MseLo...   5791.09  \n",
       "1397  tensor(0.5494, device='cuda:0', grad_fn=<MseLo...   5795.88  \n",
       "1398  tensor(0.5220, device='cuda:0', grad_fn=<MseLo...   5800.63  \n",
       "1399  tensor(0.5075, device='cuda:0', grad_fn=<MseLo...   5805.26  \n",
       "\n",
       "[1400 rows x 5 columns]"
      ]
     },
     "execution_count": 8,
     "metadata": {},
     "output_type": "execute_result"
    }
   ],
   "source": []
  },
  {
   "cell_type": "code",
   "execution_count": 4,
   "metadata": {},
   "outputs": [],
   "source": [
    "def each_epoch_summary(loss_data):\n",
    "    for i in range(loss_data.shape[0]):\n",
    "        loss_data.iloc[i,3]=float(loss_data.iloc[i,3][7:13])\n",
    "    loss_data.loss=loss_data.loss.astype(float)\n",
    "    loss_data.epoch=loss_data.epoch.astype(int)\n",
    "    loss_data.batch=loss_data.batch.astype(int)\n",
    "    gb=loss_data.groupby(by='epoch').mean()\n",
    "    return gb"
   ]
  },
  {
   "cell_type": "code",
   "execution_count": 8,
   "metadata": {
    "scrolled": true
   },
   "outputs": [
    {
     "data": {
      "text/plain": [
       "(236, 4)"
      ]
     },
     "execution_count": 8,
     "metadata": {},
     "output_type": "execute_result"
    }
   ],
   "source": [
    "import numpy as np\n",
    "import matplotlib.pyplot as plt\n",
    "full_loss_data=pd.read_csv('/project/model_train_result/data30_w045+b64+e100+s6400_v1.csv')\n",
    "full_loss_data=each_epoch_summary(full_loss_data)\n",
    "\n",
    "for i in range(2,18):\n",
    "    loss_data=pd.read_csv('/project/model_train_result/w045+b64+e15+s6400_v'+str(i)+'.csv')\n",
    "    loss_data=each_epoch_summary(loss_data)\n",
    "    full_loss_data=full_loss_data.append(loss_data)\n",
    "full_loss_data.shape\n",
    "\n",
    "# y=np.array(gb.loss)\n",
    "# x=np.array(gb.index)\n",
    "# plt.plot(x,y)"
   ]
  },
  {
   "cell_type": "code",
   "execution_count": 9,
   "metadata": {},
   "outputs": [
    {
     "data": {
      "text/html": [
       "<div>\n",
       "<style scoped>\n",
       "    .dataframe tbody tr th:only-of-type {\n",
       "        vertical-align: middle;\n",
       "    }\n",
       "\n",
       "    .dataframe tbody tr th {\n",
       "        vertical-align: top;\n",
       "    }\n",
       "\n",
       "    .dataframe thead th {\n",
       "        text-align: right;\n",
       "    }\n",
       "</style>\n",
       "<table border=\"1\" class=\"dataframe\">\n",
       "  <thead>\n",
       "    <tr style=\"text-align: right;\">\n",
       "      <th></th>\n",
       "      <th>Unnamed: 0</th>\n",
       "      <th>batch</th>\n",
       "      <th>loss</th>\n",
       "      <th>time_acc</th>\n",
       "    </tr>\n",
       "    <tr>\n",
       "      <th>epoch</th>\n",
       "      <th></th>\n",
       "      <th></th>\n",
       "      <th></th>\n",
       "      <th></th>\n",
       "    </tr>\n",
       "  </thead>\n",
       "  <tbody>\n",
       "    <tr>\n",
       "      <th>0</th>\n",
       "      <td>49.5</td>\n",
       "      <td>49.5</td>\n",
       "      <td>2.756984</td>\n",
       "      <td>251.5656</td>\n",
       "    </tr>\n",
       "    <tr>\n",
       "      <th>1</th>\n",
       "      <td>149.5</td>\n",
       "      <td>49.5</td>\n",
       "      <td>2.210948</td>\n",
       "      <td>753.7659</td>\n",
       "    </tr>\n",
       "    <tr>\n",
       "      <th>2</th>\n",
       "      <td>249.5</td>\n",
       "      <td>49.5</td>\n",
       "      <td>2.118060</td>\n",
       "      <td>1259.5175</td>\n",
       "    </tr>\n",
       "    <tr>\n",
       "      <th>3</th>\n",
       "      <td>349.5</td>\n",
       "      <td>49.5</td>\n",
       "      <td>2.073824</td>\n",
       "      <td>1775.5062</td>\n",
       "    </tr>\n",
       "    <tr>\n",
       "      <th>4</th>\n",
       "      <td>449.5</td>\n",
       "      <td>49.5</td>\n",
       "      <td>2.012371</td>\n",
       "      <td>2298.3428</td>\n",
       "    </tr>\n",
       "    <tr>\n",
       "      <th>...</th>\n",
       "      <td>...</td>\n",
       "      <td>...</td>\n",
       "      <td>...</td>\n",
       "      <td>...</td>\n",
       "    </tr>\n",
       "    <tr>\n",
       "      <th>9</th>\n",
       "      <td>949.5</td>\n",
       "      <td>49.5</td>\n",
       "      <td>0.537174</td>\n",
       "      <td>3789.9555</td>\n",
       "    </tr>\n",
       "    <tr>\n",
       "      <th>10</th>\n",
       "      <td>1049.5</td>\n",
       "      <td>49.5</td>\n",
       "      <td>0.531906</td>\n",
       "      <td>4226.3459</td>\n",
       "    </tr>\n",
       "    <tr>\n",
       "      <th>11</th>\n",
       "      <td>1149.5</td>\n",
       "      <td>49.5</td>\n",
       "      <td>0.527332</td>\n",
       "      <td>4669.2546</td>\n",
       "    </tr>\n",
       "    <tr>\n",
       "      <th>12</th>\n",
       "      <td>1249.5</td>\n",
       "      <td>49.5</td>\n",
       "      <td>0.523496</td>\n",
       "      <td>5119.3809</td>\n",
       "    </tr>\n",
       "    <tr>\n",
       "      <th>13</th>\n",
       "      <td>1349.5</td>\n",
       "      <td>49.5</td>\n",
       "      <td>0.520057</td>\n",
       "      <td>5575.8969</td>\n",
       "    </tr>\n",
       "  </tbody>\n",
       "</table>\n",
       "<p>236 rows × 4 columns</p>\n",
       "</div>"
      ],
      "text/plain": [
       "       Unnamed: 0  batch      loss   time_acc\n",
       "epoch                                        \n",
       "0            49.5   49.5  2.756984   251.5656\n",
       "1           149.5   49.5  2.210948   753.7659\n",
       "2           249.5   49.5  2.118060  1259.5175\n",
       "3           349.5   49.5  2.073824  1775.5062\n",
       "4           449.5   49.5  2.012371  2298.3428\n",
       "...           ...    ...       ...        ...\n",
       "9           949.5   49.5  0.537174  3789.9555\n",
       "10         1049.5   49.5  0.531906  4226.3459\n",
       "11         1149.5   49.5  0.527332  4669.2546\n",
       "12         1249.5   49.5  0.523496  5119.3809\n",
       "13         1349.5   49.5  0.520057  5575.8969\n",
       "\n",
       "[236 rows x 4 columns]"
      ]
     },
     "execution_count": 9,
     "metadata": {},
     "output_type": "execute_result"
    }
   ],
   "source": [
    "full_loss_data"
   ]
  },
  {
   "cell_type": "code",
   "execution_count": 7,
   "metadata": {},
   "outputs": [
    {
     "data": {
      "text/plain": [
       "array([ 0,  1,  2,  3,  4,  5,  6,  7,  8,  9, 10,  0,  1,  2,  3,  4,  5,\n",
       "        6,  7,  8,  9, 10, 11, 12, 13, 14,  0,  1,  2,  3,  4,  5,  6,  7,\n",
       "        8,  9, 10, 11, 12, 13,  0,  1,  2,  3,  4,  5,  6,  7,  8,  9, 10,\n",
       "       11, 12, 13,  0,  1,  2,  3,  4,  5,  6,  7,  8,  9, 10, 11, 12, 13,\n",
       "        0,  1,  2,  3,  4,  5,  6,  7,  8,  9, 10, 11, 12, 13,  0,  1,  2,\n",
       "        3,  4,  5,  6,  7,  8,  9, 10, 11, 12, 13,  0,  1,  2,  3,  4,  5,\n",
       "        6,  7,  8,  9, 10, 11, 12, 13,  0,  1,  2,  3,  4,  5,  6,  7,  8,\n",
       "        9, 10, 11, 12, 13,  0,  1,  2,  3,  4,  5,  6,  7,  8,  9, 10, 11,\n",
       "       12, 13,  0,  1,  2,  3,  4,  5,  6,  7,  8,  9, 10, 11, 12, 13,  0,\n",
       "        1,  2,  3,  4,  5,  6,  7,  8,  9, 10, 11, 12, 13,  0,  1,  2,  3,\n",
       "        4,  5,  6,  7,  8,  9, 10, 11, 12, 13,  0,  1,  2,  3,  4,  5,  6,\n",
       "        7,  8,  9, 10, 11, 12, 13,  0,  1,  2,  3,  4,  5,  6,  7,  8,  9,\n",
       "       10, 11, 12, 13,  0,  1,  2,  3,  4,  5,  6,  7,  8,  9, 10, 11, 12,\n",
       "       13,  0,  1,  2,  3,  4,  5,  6,  7,  8,  9, 10, 11, 12, 13])"
      ]
     },
     "execution_count": 7,
     "metadata": {},
     "output_type": "execute_result"
    }
   ],
   "source": [
    "#full_loss_data=full_loss_data.reset_index()\n",
    "y=np.array(full_loss_data.loss)\n",
    "x=np.array(full_loss_data.index)\n",
    "x\n",
    "# plt.plot(x,y,color='#37A27F', linewidth=1.5, linestyle='-')\n",
    "# plt.xlabel('training epoch',fontdict={ 'size': 13})\n",
    "# plt.ylabel('loss',fontdict={'size': 13})\n",
    "# plt.title('The training loss of the Graph CNN model')"
   ]
  },
  {
   "cell_type": "code",
   "execution_count": 28,
   "metadata": {},
   "outputs": [
    {
     "data": {
      "text/plain": [
       "[<matplotlib.lines.Line2D at 0x7fc2846b0c10>]"
      ]
     },
     "execution_count": 28,
     "metadata": {},
     "output_type": "execute_result"
    },
    {
     "data": {
      "image/png": "[encoded data removed]",
      "text/plain": [
       "<Figure size 432x288 with 1 Axes>"
      ]
     },
     "metadata": {
      "needs_background": "light"
     },
     "output_type": "display_data"
    }
   ],
   "source": [
    "\n"
   ]
  },
  {
   "cell_type": "code",
   "execution_count": 11,
   "metadata": {
    "scrolled": true
   },
   "outputs": [
    {
     "data": {
      "text/plain": [
       "[<matplotlib.lines.Line2D at 0x7ff2bd3a19a0>]"
      ]
     },
     "execution_count": 11,
     "metadata": {},
     "output_type": "execute_result"
    },
    {
     "data": {
      "image/png": "[encoded data removed]",
      "text/plain": [
       "<Figure size 432x288 with 1 Axes>"
      ]
     },
     "metadata": {
      "needs_background": "light"
     },
     "output_type": "display_data"
    }
   ],
   "source": [
    "import numpy as np\n",
    "import matplotlib.pyplot as plt\n",
    "loss_data=pd.read_csv('/project/model_train_result/d15_w03_b64_e30_s6400_stgcn_v1.csv')\n",
    "loss_data.shape\n",
    "\n",
    "for i in range(loss_data.shape[0]):\n",
    "    loss_data.iloc[i,3]=float(loss_data.iloc[i,3][7:13])\n",
    "loss_data.loss=loss_data.loss.astype(float)\n",
    "loss_data.epoch=loss_data.epoch.astype(int)\n",
    "loss_data.batch=loss_data.batch.astype(int)\n",
    "gb=loss_data.groupby(by='epoch').mean()\n",
    "y=np.array(gb.loss)\n",
    "x=np.array(gb.index)\n",
    "plt.plot(x,y)"
   ]
  },
  {
   "cell_type": "code",
   "execution_count": 78,
   "metadata": {},
   "outputs": [
    {
     "data": {
      "text/plain": [
       "[<matplotlib.lines.Line2D at 0x7ff1e7b5b160>]"
      ]
     },
     "execution_count": 78,
     "metadata": {},
     "output_type": "execute_result"
    },
    {
     "data": {
      "image/png": "[encoded data removed]",
      "text/plain": [
       "<Figure size 432x288 with 1 Axes>"
      ]
     },
     "metadata": {
      "needs_background": "light"
     },
     "output_type": "display_data"
    }
   ],
   "source": [
    "import numpy as np\n",
    "import matplotlib.pyplot as plt\n",
    "loss_data=pd.read_csv('/project/model_train_result/d15_w03_b64_e10_s6400_stgcn_v12.csv')\n",
    "loss_data.shape\n",
    "\n",
    "for i in range(loss_data.shape[0]):\n",
    "    loss_data.iloc[i,3]=float(loss_data.iloc[i,3][7:13])\n",
    "loss_data.loss=loss_data.loss.astype(float)\n",
    "loss_data.epoch=loss_data.epoch.astype(int)\n",
    "loss_data.batch=loss_data.batch.astype(int)\n",
    "gb=loss_data.groupby(by='epoch').mean()\n",
    "y=np.array(gb.loss)\n",
    "x=np.array(gb.index)\n",
    "plt.plot(x,y)"
   ]
  },
  {
   "cell_type": "code",
   "execution_count": 43,
   "metadata": {},
   "outputs": [
    {
     "data": {
      "text/plain": [
       "[<matplotlib.lines.Line2D at 0x7ff205e41e50>]"
      ]
     },
     "execution_count": 43,
     "metadata": {},
     "output_type": "execute_result"
    },
    {
     "data": {
      "image/png": "[encoded data removed]",
      "text/plain": [
       "<Figure size 432x288 with 1 Axes>"
      ]
     },
     "metadata": {
      "needs_background": "light"
     },
     "output_type": "display_data"
    }
   ],
   "source": [
    "import numpy as np\n",
    "import matplotlib.pyplot as plt\n",
    "loss_data=pd.read_csv('/project/model_train_result/d15_w03_b64_e10_s6400_stgcn_v5.csv')\n",
    "loss_data.shape\n",
    "\n",
    "for i in range(loss_data.shape[0]):\n",
    "    loss_data.iloc[i,3]=float(loss_data.iloc[i,3][7:13])\n",
    "loss_data.loss=loss_data.loss.astype(float)\n",
    "loss_data.epoch=loss_data.epoch.astype(int)\n",
    "loss_data.batch=loss_data.batch.astype(int)\n",
    "gb=loss_data.groupby(by='epoch').mean()\n",
    "y=np.array(gb.loss)\n",
    "x=np.array(gb.index)\n",
    "plt.plot(x,y)"
   ]
  },
  {
   "cell_type": "code",
   "execution_count": 15,
   "metadata": {},
   "outputs": [
    {
     "data": {
      "text/plain": [
       "Unnamed: 0    2000.0000\n",
       "batch            0.0000\n",
       "epoch           20.0000\n",
       "loss             0.9462\n",
       "time_acc      5341.7300\n",
       "Name: 2000, dtype: float64"
      ]
     },
     "execution_count": 15,
     "metadata": {},
     "output_type": "execute_result"
    }
   ],
   "source": [
    "loss_data.iloc[2000,:]"
   ]
  },
  {
   "cell_type": "code",
   "execution_count": 23,
   "metadata": {},
   "outputs": [
    {
     "data": {
      "text/plain": [
       "[<matplotlib.lines.Line2D at 0x7f87b0e2a280>]"
      ]
     },
     "execution_count": 23,
     "metadata": {},
     "output_type": "execute_result"
    },
    {
     "data": {
      "image/png": "[encoded data removed]",
      "text/plain": [
       "<Figure size 432x288 with 1 Axes>"
      ]
     },
     "metadata": {
      "needs_background": "light"
     },
     "output_type": "display_data"
    }
   ],
   "source": [
    "import pandas as pd\n",
    "import numpy as np\n",
    "import matplotlib.pyplot as plt\n",
    "loss_data=pd.read_csv('/project/model_train_result/w045+b64+e15+s6400_v2.csv')\n",
    "loss_data\n",
    "for i in range(loss_data.shape[0]):\n",
    "    loss_data.iloc[i,3]=float(loss_data.iloc[i,3][7:13])\n",
    "\n",
    "loss_data.loss=loss_data.loss.astype(float)\n",
    "loss_data.batch=loss_data.batch.astype(int)\n",
    "loss_data.epoch=loss_data.epoch.astype(int)\n",
    "\n",
    "gb=loss_data.groupby(by='epoch').mean()\n",
    "\n",
    "y=np.array(gb.time_acc)\n",
    "x=np.array(gb.index)\n",
    "plt.plot(x,y)"
   ]
  },
  {
   "cell_type": "code",
   "execution_count": null,
   "metadata": {},
   "outputs": [],
   "source": []
  },
  {
   "cell_type": "code",
   "execution_count": null,
   "metadata": {
    "colab": {
     "base_uri": "https://localhost:8080/"
    },
    "executionInfo": {
     "elapsed": 351,
     "status": "ok",
     "timestamp": 1627431161436,
     "user": {
      "displayName": "ceres jing",
      "photoUrl": "",
      "userId": "00035869373124920510"
     },
     "user_tz": -60
    },
    "id": "SNKWi_E6dIeR",
    "outputId": "4455aaea-caf1-495a-f19f-7dab2b0ee099"
   },
   "outputs": [],
   "source": [
    "trail(0.25,'t15+w025+b64+e10+s20480',64,10,20480)"
   ]
  },
  {
   "cell_type": "code",
   "execution_count": null,
   "metadata": {},
   "outputs": [],
   "source": [
    "trail(0.3,'t15+w030+b128+e10+s20480',128,10,20480)"
   ]
  },
  {
   "cell_type": "markdown",
   "metadata": {
    "id": "zQiFpcQWvs5f"
   },
   "source": [
    "# New Section"
   ]
  },
  {
   "cell_type": "markdown",
   "metadata": {
    "id": "tecLwSIHv3EF"
   },
   "source": []
  },
  {
   "cell_type": "code",
   "execution_count": null,
   "metadata": {
    "id": "uCUsufmoSW62"
   },
   "outputs": [],
   "source": [
    "while True:pass"
   ]
  },
  {
   "cell_type": "code",
   "execution_count": null,
   "metadata": {
    "id": "wI34zT8waTG5"
   },
   "outputs": [],
   "source": [
    "trail(0.7,'t15+w0.7+b128+e10+s19200',128,10,19200)"
   ]
  },
  {
   "cell_type": "code",
   "execution_count": null,
   "metadata": {
    "id": "s_aMGOSwafht"
   },
   "outputs": [],
   "source": [
    "trail(1.5,'t15+w1.5+b128+e10+s19200',128,10,19200)"
   ]
  },
  {
   "cell_type": "code",
   "execution_count": null,
   "metadata": {
    "id": "-eZhtU8kakOI"
   },
   "outputs": [],
   "source": [
    "trail(3,'t15+w3+b128+e10+s19200',128,10,19200)"
   ]
  },
  {
   "cell_type": "code",
   "execution_count": null,
   "metadata": {
    "colab": {
     "base_uri": "https://localhost:8080/",
     "height": 81
    },
    "executionInfo": {
     "elapsed": 448,
     "status": "ok",
     "timestamp": 1627327976689,
     "user": {
      "displayName": "ceres jing",
      "photoUrl": "",
      "userId": "00035869373124920510"
     },
     "user_tz": -60
    },
    "id": "RRA5LN1dTPRP",
    "outputId": "0c3c1c49-c2f2-4f2c-a0e9-8ec361a5428d"
   },
   "outputs": [
    {
     "data": {
      "text/html": [
       "<div>\n",
       "<style scoped>\n",
       "    .dataframe tbody tr th:only-of-type {\n",
       "        vertical-align: middle;\n",
       "    }\n",
       "\n",
       "    .dataframe tbody tr th {\n",
       "        vertical-align: top;\n",
       "    }\n",
       "\n",
       "    .dataframe thead th {\n",
       "        text-align: right;\n",
       "    }\n",
       "</style>\n",
       "<table border=\"1\" class=\"dataframe\">\n",
       "  <thead>\n",
       "    <tr style=\"text-align: right;\">\n",
       "      <th></th>\n",
       "      <th>Unnamed: 0</th>\n",
       "      <th>batch</th>\n",
       "      <th>epoch</th>\n",
       "      <th>loss</th>\n",
       "      <th>time_acc</th>\n",
       "    </tr>\n",
       "  </thead>\n",
       "  <tbody>\n",
       "    <tr>\n",
       "      <th>0</th>\n",
       "      <td>0</td>\n",
       "      <td>0.0</td>\n",
       "      <td>0.0</td>\n",
       "      <td>tensor(1.1406, grad_fn=&lt;MseLossBackward&gt;)</td>\n",
       "      <td>60.24</td>\n",
       "    </tr>\n",
       "  </tbody>\n",
       "</table>\n",
       "</div>"
      ],
      "text/plain": [
       "   Unnamed: 0  batch  ...                                       loss time_acc\n",
       "0           0    0.0  ...  tensor(1.1406, grad_fn=<MseLossBackward>)    60.24\n",
       "\n",
       "[1 rows x 5 columns]"
      ]
     },
     "execution_count": 103,
     "metadata": {
      "tags": []
     },
     "output_type": "execute_result"
    }
   ],
   "source": [
    "hello=pd.read_csv('/content/drive/MyDrive/london_bike_forecast/model_save/model_save_interrval15')\n",
    "hello"
   ]
  },
  {
   "cell_type": "code",
   "execution_count": null,
   "metadata": {
    "colab": {
     "base_uri": "https://localhost:8080/"
    },
    "executionInfo": {
     "elapsed": 36050,
     "status": "ok",
     "timestamp": 1627312433892,
     "user": {
      "displayName": "ceres jing",
      "photoUrl": "",
      "userId": "00035869373124920510"
     },
     "user_tz": -60
    },
    "id": "xxGeS-boiUAe",
    "outputId": "782f1f57-cc11-48f7-bfa9-b85921dd747c"
   },
   "outputs": [
    {
     "name": "stdout",
     "output_type": "stream",
     "text": [
      "something will be printed out\n",
      "                                     actual_count                           predicted_count\n",
      "event_type local_time_id station_id                                                        \n",
      "arrivals   0             14                   0.0  tensor(0.3422, grad_fn=<UnbindBackward>)\n",
      "           1             14                   5.0  tensor(0.3692, grad_fn=<UnbindBackward>)\n",
      "           2             14                   0.0  tensor(0.2955, grad_fn=<UnbindBackward>)\n",
      "           3             14                   0.0  tensor(0.3801, grad_fn=<UnbindBackward>)\n",
      "           4             14                   0.0  tensor(0.2845, grad_fn=<UnbindBackward>)\n",
      "...                                           ...                                       ...\n",
      "departures 45            14                   0.0  tensor(0.3983, grad_fn=<UnbindBackward>)\n",
      "           46            14                   0.0  tensor(0.7329, grad_fn=<UnbindBackward>)\n",
      "           47            14                   0.0  tensor(0.5074, grad_fn=<UnbindBackward>)\n",
      "           48            14                   0.0  tensor(0.8851, grad_fn=<UnbindBackward>)\n",
      "           49            14                   0.0  tensor(0.8694, grad_fn=<UnbindBackward>)\n",
      "\n",
      "[100 rows x 2 columns]\n"
     ]
    }
   ],
   "source": [
    "'''Script for evaluating the London bike forecast graph convolutional neural net\n",
    "'''\n",
    "import pandas as pd\n",
    "def make_viz_stations(model, data_loader, viz_stations, station2id):\n",
    "\n",
    "    inds = [station2id[k] for k in viz_stations]\n",
    "    inds_slicer = [[ind * 2, ind *2 + 1] for ind in inds]\n",
    "    inds_slicer = torch.tensor(inds_slicer).flatten()\n",
    "    totals_predict = []\n",
    "    totals_actual = []\n",
    "    for n_time, data in enumerate(data_loader):\n",
    "        predict = model(data).y\n",
    "        actual = data.y\n",
    "        v_predict = torch.take(predict, inds_slicer)\n",
    "        v_actual = torch.take(actual, inds_slicer)\n",
    "        totals_predict.extend(list(v_predict))\n",
    "        totals_actual.extend(list(v_actual))\n",
    "\n",
    "    mind = pd.MultiIndex.from_product([['arrivals', 'departures'], range(n_time + 1), viz_stations],\n",
    "                                      names=['event_type', 'local_time_id', 'station_id'])\n",
    "    df_1 = pd.DataFrame(totals_actual, index=mind, columns=['actual_count'])\n",
    "    df_2 = pd.DataFrame(totals_predict, index=mind, columns=['predicted_count'])\n",
    "    df = df_1.join(df_2)\n",
    "    return df\n",
    "\n",
    "def main(path_model_load, dataset_kwargs, dataloader_kwargs, model_kwargs,\n",
    "         viz_stations=None):\n",
    "    '''\n",
    "    Main function to evaluate model on a dataset.\n",
    "\n",
    "    Args:\n",
    "        path_model_load (str): Path to model to load state from. If None, state is randomly initialized.\n",
    "        dataset_kwargs (dict): Keyworded arguments for the creation of a LondonBikeDataset instance\n",
    "        dataloader_kwargs (dict): Keyworded arguments for the creation of a PyTorch geometric DataLoader instance\n",
    "        model_kwargs (dict): Keyworded arguments for the spatio-temporal graph convolutional net model instance\n",
    "\n",
    "    '''\n",
    "    device = torch.device('tpu')#'cuda' if torch.cuda.is_available() else 'cpu')\n",
    "\n",
    "    # Prepare the data set and data loader. Dataset preparation can take time and with care taken, the\n",
    "    # process set to False will reuse already processed files. The meaning of the processed files are\n",
    "    # currently a manual process, which I could automate later, so use process=True unless you are\n",
    "    # really sure what you are doing\n",
    "    london_bike_data = LondonBikeDataset(**dataset_kwargs)\n",
    "    london_bike_loader = DataLoader(london_bike_data, **dataloader_kwargs)\n",
    "\n",
    "    # Initialize model and load state\n",
    "    model = STGCN(n_spatial_dim=london_bike_data[0].num_nodes, **model_kwargs).to(device)\n",
    "    state = torch.load(path_model_load)\n",
    "    model.load_state_dict(state['model_state_dict'])\n",
    "    model.eval()\n",
    "\n",
    "    if not viz_stations is None:\n",
    "        hello=make_viz_stations(model, london_bike_loader, viz_stations, london_bike_data.station_id_2_node_id_map)\n",
    "    \n",
    "    return hello\n",
    "\n",
    "\n",
    "if __name__ == '__main__':\n",
    "\n",
    "    dataset_kwargs = {'lower_weight' : 0.45,\n",
    "                      'common_weight' : None,\n",
    "                      'time_id_bounds' :None,\n",
    "                      'time_shuffle' : True,\n",
    "                      'sample_size' :50,\n",
    "                      'create_from_source' :True,#'station_exclusion' : EXCLUDE_STATIONS,\n",
    "                      'ntimes_leading' : 9,\n",
    "                      'ntimes_forward' : 5,\n",
    "                      'source_graph_file' : 'graph_weight.csv',\n",
    "                      'source_data_files' : 'data.csv',\n",
    "                      'root_dir' : '/content/drive/MyDrive/london_bike_forecast/data_input',\n",
    "                      'source_dir' : '/content/drive/MyDrive/london_bike_forecast',\n",
    "                      'weight_type':'percent_flow'}\n",
    "\n",
    "  \n",
    "    dataloader_kwargs = {'batch_size' : 128, 'shuffle' : False}\n",
    "\n",
    "    model_kwargs = {'n_temporal_dim' : 9, 'n_input_channels' : 2,\n",
    "             'co_temporal' :64, 'co_spatial' :16, 'time_conv_length' : 3}\n",
    "\n",
    "    hello=main(path_model_load='/content/drive/MyDrive/london_bike_forecast/model_save.tar',\n",
    "         dataset_kwargs=dataset_kwargs, dataloader_kwargs=dataloader_kwargs, model_kwargs=model_kwargs,\n",
    "         viz_stations=[14])\n",
    "    print('something will be printed out')\n",
    "    print(hello)\n"
   ]
  },
  {
   "cell_type": "markdown",
   "metadata": {
    "id": "RDmeEtkoeqaN"
   },
   "source": [
    "# New Section"
   ]
  },
  {
   "cell_type": "code",
   "execution_count": 10,
   "metadata": {},
   "outputs": [
    {
     "data": {
      "text/html": [
       "<div>\n",
       "<style scoped>\n",
       "    .dataframe tbody tr th:only-of-type {\n",
       "        vertical-align: middle;\n",
       "    }\n",
       "\n",
       "    .dataframe tbody tr th {\n",
       "        vertical-align: top;\n",
       "    }\n",
       "\n",
       "    .dataframe thead th {\n",
       "        text-align: right;\n",
       "    }\n",
       "</style>\n",
       "<table border=\"1\" class=\"dataframe\">\n",
       "  <thead>\n",
       "    <tr style=\"text-align: right;\">\n",
       "      <th></th>\n",
       "      <th>Rental Id</th>\n",
       "      <th>Duration</th>\n",
       "      <th>Bike Id</th>\n",
       "      <th>End Date</th>\n",
       "      <th>EndStation Id</th>\n",
       "      <th>EndStation Name</th>\n",
       "      <th>Start Date</th>\n",
       "      <th>StartStation Id</th>\n",
       "      <th>StartStation Name</th>\n",
       "    </tr>\n",
       "  </thead>\n",
       "  <tbody>\n",
       "    <tr>\n",
       "      <th>937</th>\n",
       "      <td>97924563</td>\n",
       "      <td>1680</td>\n",
       "      <td>217</td>\n",
       "      <td>06/06/2020 17:53</td>\n",
       "      <td>633</td>\n",
       "      <td>Vereker Road, West Kensington</td>\n",
       "      <td>06/06/2020 17:25</td>\n",
       "      <td>191</td>\n",
       "      <td>Hyde Park Corner, Hyde Park</td>\n",
       "    </tr>\n",
       "    <tr>\n",
       "      <th>938</th>\n",
       "      <td>97997517</td>\n",
       "      <td>600</td>\n",
       "      <td>15205</td>\n",
       "      <td>08/06/2020 20:52</td>\n",
       "      <td>64</td>\n",
       "      <td>William IV Street, Strand</td>\n",
       "      <td>08/06/2020 20:42</td>\n",
       "      <td>191</td>\n",
       "      <td>Hyde Park Corner, Hyde Park</td>\n",
       "    </tr>\n",
       "    <tr>\n",
       "      <th>939</th>\n",
       "      <td>97827149</td>\n",
       "      <td>1080</td>\n",
       "      <td>324</td>\n",
       "      <td>03/06/2020 15:10</td>\n",
       "      <td>153</td>\n",
       "      <td>Bayswater Road, Hyde Park</td>\n",
       "      <td>03/06/2020 14:52</td>\n",
       "      <td>191</td>\n",
       "      <td>Hyde Park Corner, Hyde Park</td>\n",
       "    </tr>\n",
       "    <tr>\n",
       "      <th>940</th>\n",
       "      <td>97994196</td>\n",
       "      <td>1140</td>\n",
       "      <td>15335</td>\n",
       "      <td>08/06/2020 19:36</td>\n",
       "      <td>727</td>\n",
       "      <td>Chesilton Road, Fulham</td>\n",
       "      <td>08/06/2020 19:17</td>\n",
       "      <td>191</td>\n",
       "      <td>Hyde Park Corner, Hyde Park</td>\n",
       "    </tr>\n",
       "    <tr>\n",
       "      <th>941</th>\n",
       "      <td>97893793</td>\n",
       "      <td>1080</td>\n",
       "      <td>16873</td>\n",
       "      <td>05/06/2020 19:10</td>\n",
       "      <td>74</td>\n",
       "      <td>Vauxhall Cross, Vauxhall</td>\n",
       "      <td>05/06/2020 18:52</td>\n",
       "      <td>191</td>\n",
       "      <td>Hyde Park Corner, Hyde Park</td>\n",
       "    </tr>\n",
       "    <tr>\n",
       "      <th>...</th>\n",
       "      <td>...</td>\n",
       "      <td>...</td>\n",
       "      <td>...</td>\n",
       "      <td>...</td>\n",
       "      <td>...</td>\n",
       "      <td>...</td>\n",
       "      <td>...</td>\n",
       "      <td>...</td>\n",
       "      <td>...</td>\n",
       "    </tr>\n",
       "    <tr>\n",
       "      <th>151225</th>\n",
       "      <td>97952338</td>\n",
       "      <td>2820</td>\n",
       "      <td>14888</td>\n",
       "      <td>07/06/2020 15:41</td>\n",
       "      <td>329</td>\n",
       "      <td>Prince Albert Road, The Regent's Park</td>\n",
       "      <td>07/06/2020 14:54</td>\n",
       "      <td>191</td>\n",
       "      <td>Hyde Park Corner, Hyde Park</td>\n",
       "    </tr>\n",
       "    <tr>\n",
       "      <th>151226</th>\n",
       "      <td>97964295</td>\n",
       "      <td>1620</td>\n",
       "      <td>14185</td>\n",
       "      <td>07/06/2020 18:53</td>\n",
       "      <td>226</td>\n",
       "      <td>Charles II Street, West End</td>\n",
       "      <td>07/06/2020 18:26</td>\n",
       "      <td>191</td>\n",
       "      <td>Hyde Park Corner, Hyde Park</td>\n",
       "    </tr>\n",
       "    <tr>\n",
       "      <th>151227</th>\n",
       "      <td>97928783</td>\n",
       "      <td>1380</td>\n",
       "      <td>12916</td>\n",
       "      <td>06/06/2020 22:05</td>\n",
       "      <td>687</td>\n",
       "      <td>Maclise Road, Olympia</td>\n",
       "      <td>06/06/2020 21:42</td>\n",
       "      <td>191</td>\n",
       "      <td>Hyde Park Corner, Hyde Park</td>\n",
       "    </tr>\n",
       "    <tr>\n",
       "      <th>151228</th>\n",
       "      <td>97895330</td>\n",
       "      <td>960</td>\n",
       "      <td>9730</td>\n",
       "      <td>05/06/2020 19:42</td>\n",
       "      <td>428</td>\n",
       "      <td>Exhibition Road, Knightsbridge</td>\n",
       "      <td>05/06/2020 19:26</td>\n",
       "      <td>191</td>\n",
       "      <td>Hyde Park Corner, Hyde Park</td>\n",
       "    </tr>\n",
       "    <tr>\n",
       "      <th>151229</th>\n",
       "      <td>98014150</td>\n",
       "      <td>1020</td>\n",
       "      <td>8203</td>\n",
       "      <td>09/06/2020 15:04</td>\n",
       "      <td>111</td>\n",
       "      <td>Park Lane , Hyde Park</td>\n",
       "      <td>09/06/2020 14:47</td>\n",
       "      <td>191</td>\n",
       "      <td>Hyde Park Corner, Hyde Park</td>\n",
       "    </tr>\n",
       "  </tbody>\n",
       "</table>\n",
       "<p>1930 rows × 9 columns</p>\n",
       "</div>"
      ],
      "text/plain": [
       "        Rental Id  Duration  Bike Id          End Date  EndStation Id  \\\n",
       "937      97924563      1680      217  06/06/2020 17:53            633   \n",
       "938      97997517       600    15205  08/06/2020 20:52             64   \n",
       "939      97827149      1080      324  03/06/2020 15:10            153   \n",
       "940      97994196      1140    15335  08/06/2020 19:36            727   \n",
       "941      97893793      1080    16873  05/06/2020 19:10             74   \n",
       "...           ...       ...      ...               ...            ...   \n",
       "151225   97952338      2820    14888  07/06/2020 15:41            329   \n",
       "151226   97964295      1620    14185  07/06/2020 18:53            226   \n",
       "151227   97928783      1380    12916  06/06/2020 22:05            687   \n",
       "151228   97895330       960     9730  05/06/2020 19:42            428   \n",
       "151229   98014150      1020     8203  09/06/2020 15:04            111   \n",
       "\n",
       "                              EndStation Name        Start Date  \\\n",
       "937             Vereker Road, West Kensington  06/06/2020 17:25   \n",
       "938                 William IV Street, Strand  08/06/2020 20:42   \n",
       "939                 Bayswater Road, Hyde Park  03/06/2020 14:52   \n",
       "940                    Chesilton Road, Fulham  08/06/2020 19:17   \n",
       "941                  Vauxhall Cross, Vauxhall  05/06/2020 18:52   \n",
       "...                                       ...               ...   \n",
       "151225  Prince Albert Road, The Regent's Park  07/06/2020 14:54   \n",
       "151226            Charles II Street, West End  07/06/2020 18:26   \n",
       "151227                  Maclise Road, Olympia  06/06/2020 21:42   \n",
       "151228         Exhibition Road, Knightsbridge  05/06/2020 19:26   \n",
       "151229                  Park Lane , Hyde Park  09/06/2020 14:47   \n",
       "\n",
       "        StartStation Id            StartStation Name  \n",
       "937                 191  Hyde Park Corner, Hyde Park  \n",
       "938                 191  Hyde Park Corner, Hyde Park  \n",
       "939                 191  Hyde Park Corner, Hyde Park  \n",
       "940                 191  Hyde Park Corner, Hyde Park  \n",
       "941                 191  Hyde Park Corner, Hyde Park  \n",
       "...                 ...                          ...  \n",
       "151225              191  Hyde Park Corner, Hyde Park  \n",
       "151226              191  Hyde Park Corner, Hyde Park  \n",
       "151227              191  Hyde Park Corner, Hyde Park  \n",
       "151228              191  Hyde Park Corner, Hyde Park  \n",
       "151229              191  Hyde Park Corner, Hyde Park  \n",
       "\n",
       "[1930 rows x 9 columns]"
      ]
     },
     "execution_count": 10,
     "metadata": {},
     "output_type": "execute_result"
    }
   ],
   "source": [
    "import pandas as pd\n",
    "one_file=pd.read_csv('https://cycling.data.tfl.gov.uk/usage-stats/217JourneyDataExtract03Jun2020-09Jun2020.csv')\n",
    "one_file.loc[:,'StartStation Name'].value_counts()\n",
    "one_file[one_file.loc[:,'StartStation Name']=='Hyde Park Corner, Hyde Park']"
   ]
  }
 ],
 "metadata": {
  "accelerator": "GPU",
  "colab": {
   "authorship_tag": "ABX9TyMpK8QAz/61Wc3HsDNuRyBk",
   "history_visible": true,
   "machine_shape": "hm",
   "mount_file_id": "1zzObpnXcHJHG2I9Eik4lmSw4-MB1a0J9",
   "name": "train and experiments.ipynb",
   "provenance": []
  },
  "kernelspec": {
   "display_name": "Python 3",
   "language": "python",
   "name": "python3"
  },
  "language_info": {
   "codemirror_mode": {
    "name": "ipython",
    "version": 3
   },
   "file_extension": ".py",
   "mimetype": "text/x-python",
   "name": "python",
   "nbconvert_exporter": "python",
   "pygments_lexer": "ipython3",
   "version": "3.8.2"
  }
 },
 "nbformat": 4,
 "nbformat_minor": 1
}
